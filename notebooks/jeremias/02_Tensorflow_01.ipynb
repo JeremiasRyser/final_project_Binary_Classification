{
 "cells": [
  {
   "cell_type": "code",
   "execution_count": 1,
   "id": "9ef706aa",
   "metadata": {
    "_cell_guid": "b1076dfc-b9ad-4769-8c92-a6c4dae69d19",
    "_uuid": "8f2839f25d086af736a60e9eeb907d3b93b6e0e5",
    "execution": {
     "iopub.execute_input": "2024-07-15T17:57:40.261418Z",
     "iopub.status.busy": "2024-07-15T17:57:40.260930Z",
     "iopub.status.idle": "2024-07-15T17:57:41.194845Z",
     "shell.execute_reply": "2024-07-15T17:57:41.193542Z"
    },
    "papermill": {
     "duration": 0.949955,
     "end_time": "2024-07-15T17:57:41.197751",
     "exception": false,
     "start_time": "2024-07-15T17:57:40.247796",
     "status": "completed"
    },
    "tags": []
   },
   "outputs": [
    {
     "name": "stdout",
     "output_type": "stream",
     "text": [
      "/kaggle/input/playground-series-s4e7/sample_submission.csv\n",
      "/kaggle/input/playground-series-s4e7/train.csv\n",
      "/kaggle/input/playground-series-s4e7/test.csv\n"
     ]
    }
   ],
   "source": [
    "# This Python 3 environment comes with many helpful analytics libraries installed\n",
    "# It is defined by the kaggle/python Docker image: https://github.com/kaggle/docker-python\n",
    "# For example, here's several helpful packages to load\n",
    "\n",
    "import numpy as np # linear algebra\n",
    "import pandas as pd # data processing, CSV file I/O (e.g. pd.read_csv)\n",
    "\n",
    "# Input data files are available in the read-only \"../input/\" directory\n",
    "# For example, running this (by clicking run or pressing Shift+Enter) will list all files under the input directory\n",
    "\n",
    "import os\n",
    "for dirname, _, filenames in os.walk('/kaggle/input'):\n",
    "    for filename in filenames:\n",
    "        print(os.path.join(dirname, filename))\n",
    "\n",
    "# You can write up to 20GB to the current directory (/kaggle/working/) that gets preserved as output when you create a version using \"Save & Run All\" \n",
    "# You can also write temporary files to /kaggle/temp/, but they won't be saved outside of the current session"
   ]
  },
  {
   "cell_type": "markdown",
   "id": "2d43a735",
   "metadata": {
    "papermill": {
     "duration": 0.010993,
     "end_time": "2024-07-15T17:57:41.219912",
     "exception": false,
     "start_time": "2024-07-15T17:57:41.208919",
     "status": "completed"
    },
    "tags": []
   },
   "source": [
    "# Setup "
   ]
  },
  {
   "cell_type": "code",
   "execution_count": 2,
   "id": "47dab549",
   "metadata": {
    "execution": {
     "iopub.execute_input": "2024-07-15T17:57:41.244579Z",
     "iopub.status.busy": "2024-07-15T17:57:41.243469Z",
     "iopub.status.idle": "2024-07-15T17:57:47.270776Z",
     "shell.execute_reply": "2024-07-15T17:57:47.269499Z"
    },
    "papermill": {
     "duration": 6.042567,
     "end_time": "2024-07-15T17:57:47.273733",
     "exception": false,
     "start_time": "2024-07-15T17:57:41.231166",
     "status": "completed"
    },
    "tags": []
   },
   "outputs": [],
   "source": [
    "import os\n",
    "import numpy as np \n",
    "import pandas as pd \n",
    "import matplotlib.pyplot as plt\n",
    "import seaborn as sns\n",
    "from matplotlib.patches import Patch\n",
    "\n",
    "from sklearn.model_selection import train_test_split\n",
    "from sklearn.preprocessing import StandardScaler\n",
    "from sklearn import preprocessing\n",
    "from sklearn.metrics import f1_score as f1\n",
    "from sklearn.metrics import confusion_matrix\n",
    "from sklearn.metrics import *\n",
    "\n",
    "#-- Pytorch specific libraries import -----#\n",
    "import torch\n",
    "import torch.nn as nn\n",
    "from torch.utils.data import TensorDataset\n",
    "from torch.utils.data import DataLoader\n",
    "\n",
    "import warnings\n",
    "warnings.simplefilter(action='ignore', category=FutureWarning)"
   ]
  },
  {
   "cell_type": "code",
   "execution_count": 3,
   "id": "36ede2c7",
   "metadata": {
    "execution": {
     "iopub.execute_input": "2024-07-15T17:57:47.298307Z",
     "iopub.status.busy": "2024-07-15T17:57:47.297725Z",
     "iopub.status.idle": "2024-07-15T17:58:26.846450Z",
     "shell.execute_reply": "2024-07-15T17:58:26.845207Z"
    },
    "papermill": {
     "duration": 39.564167,
     "end_time": "2024-07-15T17:58:26.849514",
     "exception": false,
     "start_time": "2024-07-15T17:57:47.285347",
     "status": "completed"
    },
    "tags": []
   },
   "outputs": [],
   "source": [
    "df_train_raw = pd.read_csv('/kaggle/input/playground-series-s4e7/train.csv',index_col=0)\n",
    "df_test_raw = pd.read_csv('/kaggle/input/playground-series-s4e7/test.csv',index_col=0)"
   ]
  },
  {
   "cell_type": "code",
   "execution_count": 4,
   "id": "a012bd4b",
   "metadata": {
    "execution": {
     "iopub.execute_input": "2024-07-15T17:58:26.874407Z",
     "iopub.status.busy": "2024-07-15T17:58:26.873212Z",
     "iopub.status.idle": "2024-07-15T17:58:27.498286Z",
     "shell.execute_reply": "2024-07-15T17:58:27.497143Z"
    },
    "papermill": {
     "duration": 0.639997,
     "end_time": "2024-07-15T17:58:27.501042",
     "exception": false,
     "start_time": "2024-07-15T17:58:26.861045",
     "status": "completed"
    },
    "tags": []
   },
   "outputs": [
    {
     "data": {
      "text/html": [
       "<div>\n",
       "<style scoped>\n",
       "    .dataframe tbody tr th:only-of-type {\n",
       "        vertical-align: middle;\n",
       "    }\n",
       "\n",
       "    .dataframe tbody tr th {\n",
       "        vertical-align: top;\n",
       "    }\n",
       "\n",
       "    .dataframe thead th {\n",
       "        text-align: right;\n",
       "    }\n",
       "</style>\n",
       "<table border=\"1\" class=\"dataframe\">\n",
       "  <thead>\n",
       "    <tr style=\"text-align: right;\">\n",
       "      <th></th>\n",
       "      <th>Gender</th>\n",
       "      <th>Age</th>\n",
       "      <th>Driving_License</th>\n",
       "      <th>Region_Code</th>\n",
       "      <th>Previously_Insured</th>\n",
       "      <th>Vehicle_Age</th>\n",
       "      <th>Vehicle_Damage</th>\n",
       "      <th>Annual_Premium</th>\n",
       "      <th>Policy_Sales_Channel</th>\n",
       "      <th>Vintage</th>\n",
       "      <th>Response</th>\n",
       "    </tr>\n",
       "    <tr>\n",
       "      <th>id</th>\n",
       "      <th></th>\n",
       "      <th></th>\n",
       "      <th></th>\n",
       "      <th></th>\n",
       "      <th></th>\n",
       "      <th></th>\n",
       "      <th></th>\n",
       "      <th></th>\n",
       "      <th></th>\n",
       "      <th></th>\n",
       "      <th></th>\n",
       "    </tr>\n",
       "  </thead>\n",
       "  <tbody>\n",
       "    <tr>\n",
       "      <th>0</th>\n",
       "      <td>Male</td>\n",
       "      <td>21</td>\n",
       "      <td>1</td>\n",
       "      <td>35.0</td>\n",
       "      <td>0</td>\n",
       "      <td>1-2 Year</td>\n",
       "      <td>Yes</td>\n",
       "      <td>65101.0</td>\n",
       "      <td>124.0</td>\n",
       "      <td>187</td>\n",
       "      <td>0</td>\n",
       "    </tr>\n",
       "    <tr>\n",
       "      <th>1</th>\n",
       "      <td>Male</td>\n",
       "      <td>43</td>\n",
       "      <td>1</td>\n",
       "      <td>28.0</td>\n",
       "      <td>0</td>\n",
       "      <td>&gt; 2 Years</td>\n",
       "      <td>Yes</td>\n",
       "      <td>58911.0</td>\n",
       "      <td>26.0</td>\n",
       "      <td>288</td>\n",
       "      <td>1</td>\n",
       "    </tr>\n",
       "    <tr>\n",
       "      <th>2</th>\n",
       "      <td>Female</td>\n",
       "      <td>25</td>\n",
       "      <td>1</td>\n",
       "      <td>14.0</td>\n",
       "      <td>1</td>\n",
       "      <td>&lt; 1 Year</td>\n",
       "      <td>No</td>\n",
       "      <td>38043.0</td>\n",
       "      <td>152.0</td>\n",
       "      <td>254</td>\n",
       "      <td>0</td>\n",
       "    </tr>\n",
       "    <tr>\n",
       "      <th>3</th>\n",
       "      <td>Female</td>\n",
       "      <td>35</td>\n",
       "      <td>1</td>\n",
       "      <td>1.0</td>\n",
       "      <td>0</td>\n",
       "      <td>1-2 Year</td>\n",
       "      <td>Yes</td>\n",
       "      <td>2630.0</td>\n",
       "      <td>156.0</td>\n",
       "      <td>76</td>\n",
       "      <td>0</td>\n",
       "    </tr>\n",
       "    <tr>\n",
       "      <th>4</th>\n",
       "      <td>Female</td>\n",
       "      <td>36</td>\n",
       "      <td>1</td>\n",
       "      <td>15.0</td>\n",
       "      <td>1</td>\n",
       "      <td>1-2 Year</td>\n",
       "      <td>No</td>\n",
       "      <td>31951.0</td>\n",
       "      <td>152.0</td>\n",
       "      <td>294</td>\n",
       "      <td>0</td>\n",
       "    </tr>\n",
       "  </tbody>\n",
       "</table>\n",
       "</div>"
      ],
      "text/plain": [
       "    Gender  Age  Driving_License  Region_Code  Previously_Insured Vehicle_Age  \\\n",
       "id                                                                              \n",
       "0     Male   21                1         35.0                   0    1-2 Year   \n",
       "1     Male   43                1         28.0                   0   > 2 Years   \n",
       "2   Female   25                1         14.0                   1    < 1 Year   \n",
       "3   Female   35                1          1.0                   0    1-2 Year   \n",
       "4   Female   36                1         15.0                   1    1-2 Year   \n",
       "\n",
       "   Vehicle_Damage  Annual_Premium  Policy_Sales_Channel  Vintage  Response  \n",
       "id                                                                          \n",
       "0             Yes         65101.0                 124.0      187         0  \n",
       "1             Yes         58911.0                  26.0      288         1  \n",
       "2              No         38043.0                 152.0      254         0  \n",
       "3             Yes          2630.0                 156.0       76         0  \n",
       "4              No         31951.0                 152.0      294         0  "
      ]
     },
     "execution_count": 4,
     "metadata": {},
     "output_type": "execute_result"
    }
   ],
   "source": [
    "data = df_train_raw.copy()\n",
    "data.head()"
   ]
  },
  {
   "cell_type": "code",
   "execution_count": 5,
   "id": "b61ffcf9",
   "metadata": {
    "execution": {
     "iopub.execute_input": "2024-07-15T17:58:27.525729Z",
     "iopub.status.busy": "2024-07-15T17:58:27.525241Z",
     "iopub.status.idle": "2024-07-15T17:58:31.338533Z",
     "shell.execute_reply": "2024-07-15T17:58:31.337224Z"
    },
    "papermill": {
     "duration": 3.8291,
     "end_time": "2024-07-15T17:58:31.341526",
     "exception": false,
     "start_time": "2024-07-15T17:58:27.512426",
     "status": "completed"
    },
    "tags": []
   },
   "outputs": [],
   "source": [
    "data['Gender'] = data['Gender'].map({'Male': 1, 'Female': 0})\n",
    "data['Vehicle_Age'] = data['Vehicle_Age'].map({'< 1 Year': 0, '1-2 Year': 1, '> 2 Years': 2})\n",
    "data['Vehicle_Damage'] = data['Vehicle_Damage'].map({'Yes': 1, 'No': 0})"
   ]
  },
  {
   "cell_type": "code",
   "execution_count": 6,
   "id": "74fa33cf",
   "metadata": {
    "execution": {
     "iopub.execute_input": "2024-07-15T17:58:31.366691Z",
     "iopub.status.busy": "2024-07-15T17:58:31.366115Z",
     "iopub.status.idle": "2024-07-15T17:58:31.388741Z",
     "shell.execute_reply": "2024-07-15T17:58:31.387379Z"
    },
    "papermill": {
     "duration": 0.038422,
     "end_time": "2024-07-15T17:58:31.391450",
     "exception": false,
     "start_time": "2024-07-15T17:58:31.353028",
     "status": "completed"
    },
    "tags": []
   },
   "outputs": [
    {
     "data": {
      "text/html": [
       "<div>\n",
       "<style scoped>\n",
       "    .dataframe tbody tr th:only-of-type {\n",
       "        vertical-align: middle;\n",
       "    }\n",
       "\n",
       "    .dataframe tbody tr th {\n",
       "        vertical-align: top;\n",
       "    }\n",
       "\n",
       "    .dataframe thead th {\n",
       "        text-align: right;\n",
       "    }\n",
       "</style>\n",
       "<table border=\"1\" class=\"dataframe\">\n",
       "  <thead>\n",
       "    <tr style=\"text-align: right;\">\n",
       "      <th></th>\n",
       "      <th>Gender</th>\n",
       "      <th>Age</th>\n",
       "      <th>Driving_License</th>\n",
       "      <th>Region_Code</th>\n",
       "      <th>Previously_Insured</th>\n",
       "      <th>Vehicle_Age</th>\n",
       "      <th>Vehicle_Damage</th>\n",
       "      <th>Annual_Premium</th>\n",
       "      <th>Policy_Sales_Channel</th>\n",
       "      <th>Vintage</th>\n",
       "      <th>Response</th>\n",
       "    </tr>\n",
       "    <tr>\n",
       "      <th>id</th>\n",
       "      <th></th>\n",
       "      <th></th>\n",
       "      <th></th>\n",
       "      <th></th>\n",
       "      <th></th>\n",
       "      <th></th>\n",
       "      <th></th>\n",
       "      <th></th>\n",
       "      <th></th>\n",
       "      <th></th>\n",
       "      <th></th>\n",
       "    </tr>\n",
       "  </thead>\n",
       "  <tbody>\n",
       "    <tr>\n",
       "      <th>0</th>\n",
       "      <td>1</td>\n",
       "      <td>21</td>\n",
       "      <td>1</td>\n",
       "      <td>35.0</td>\n",
       "      <td>0</td>\n",
       "      <td>1</td>\n",
       "      <td>1</td>\n",
       "      <td>65101.0</td>\n",
       "      <td>124.0</td>\n",
       "      <td>187</td>\n",
       "      <td>0</td>\n",
       "    </tr>\n",
       "    <tr>\n",
       "      <th>1</th>\n",
       "      <td>1</td>\n",
       "      <td>43</td>\n",
       "      <td>1</td>\n",
       "      <td>28.0</td>\n",
       "      <td>0</td>\n",
       "      <td>2</td>\n",
       "      <td>1</td>\n",
       "      <td>58911.0</td>\n",
       "      <td>26.0</td>\n",
       "      <td>288</td>\n",
       "      <td>1</td>\n",
       "    </tr>\n",
       "    <tr>\n",
       "      <th>2</th>\n",
       "      <td>0</td>\n",
       "      <td>25</td>\n",
       "      <td>1</td>\n",
       "      <td>14.0</td>\n",
       "      <td>1</td>\n",
       "      <td>0</td>\n",
       "      <td>0</td>\n",
       "      <td>38043.0</td>\n",
       "      <td>152.0</td>\n",
       "      <td>254</td>\n",
       "      <td>0</td>\n",
       "    </tr>\n",
       "    <tr>\n",
       "      <th>3</th>\n",
       "      <td>0</td>\n",
       "      <td>35</td>\n",
       "      <td>1</td>\n",
       "      <td>1.0</td>\n",
       "      <td>0</td>\n",
       "      <td>1</td>\n",
       "      <td>1</td>\n",
       "      <td>2630.0</td>\n",
       "      <td>156.0</td>\n",
       "      <td>76</td>\n",
       "      <td>0</td>\n",
       "    </tr>\n",
       "    <tr>\n",
       "      <th>4</th>\n",
       "      <td>0</td>\n",
       "      <td>36</td>\n",
       "      <td>1</td>\n",
       "      <td>15.0</td>\n",
       "      <td>1</td>\n",
       "      <td>1</td>\n",
       "      <td>0</td>\n",
       "      <td>31951.0</td>\n",
       "      <td>152.0</td>\n",
       "      <td>294</td>\n",
       "      <td>0</td>\n",
       "    </tr>\n",
       "  </tbody>\n",
       "</table>\n",
       "</div>"
      ],
      "text/plain": [
       "    Gender  Age  Driving_License  Region_Code  Previously_Insured  \\\n",
       "id                                                                  \n",
       "0        1   21                1         35.0                   0   \n",
       "1        1   43                1         28.0                   0   \n",
       "2        0   25                1         14.0                   1   \n",
       "3        0   35                1          1.0                   0   \n",
       "4        0   36                1         15.0                   1   \n",
       "\n",
       "    Vehicle_Age  Vehicle_Damage  Annual_Premium  Policy_Sales_Channel  \\\n",
       "id                                                                      \n",
       "0             1               1         65101.0                 124.0   \n",
       "1             2               1         58911.0                  26.0   \n",
       "2             0               0         38043.0                 152.0   \n",
       "3             1               1          2630.0                 156.0   \n",
       "4             1               0         31951.0                 152.0   \n",
       "\n",
       "    Vintage  Response  \n",
       "id                     \n",
       "0       187         0  \n",
       "1       288         1  \n",
       "2       254         0  \n",
       "3        76         0  \n",
       "4       294         0  "
      ]
     },
     "execution_count": 6,
     "metadata": {},
     "output_type": "execute_result"
    }
   ],
   "source": [
    "data.head()"
   ]
  },
  {
   "cell_type": "markdown",
   "id": "c6825681",
   "metadata": {
    "papermill": {
     "duration": 0.011366,
     "end_time": "2024-07-15T17:58:31.415675",
     "exception": false,
     "start_time": "2024-07-15T17:58:31.404309",
     "status": "completed"
    },
    "tags": []
   },
   "source": [
    "# EDA"
   ]
  },
  {
   "cell_type": "code",
   "execution_count": 7,
   "id": "2974fe82",
   "metadata": {
    "execution": {
     "iopub.execute_input": "2024-07-15T17:58:31.441567Z",
     "iopub.status.busy": "2024-07-15T17:58:31.441159Z",
     "iopub.status.idle": "2024-07-15T17:58:31.465639Z",
     "shell.execute_reply": "2024-07-15T17:58:31.464138Z"
    },
    "papermill": {
     "duration": 0.040881,
     "end_time": "2024-07-15T17:58:31.468527",
     "exception": false,
     "start_time": "2024-07-15T17:58:31.427646",
     "status": "completed"
    },
    "tags": []
   },
   "outputs": [
    {
     "name": "stdout",
     "output_type": "stream",
     "text": [
      "<class 'pandas.core.frame.DataFrame'>\n",
      "Index: 11504798 entries, 0 to 11504797\n",
      "Data columns (total 11 columns):\n",
      " #   Column                Dtype  \n",
      "---  ------                -----  \n",
      " 0   Gender                int64  \n",
      " 1   Age                   int64  \n",
      " 2   Driving_License       int64  \n",
      " 3   Region_Code           float64\n",
      " 4   Previously_Insured    int64  \n",
      " 5   Vehicle_Age           int64  \n",
      " 6   Vehicle_Damage        int64  \n",
      " 7   Annual_Premium        float64\n",
      " 8   Policy_Sales_Channel  float64\n",
      " 9   Vintage               int64  \n",
      " 10  Response              int64  \n",
      "dtypes: float64(3), int64(8)\n",
      "memory usage: 1.0 GB\n"
     ]
    }
   ],
   "source": [
    "data.info()"
   ]
  },
  {
   "cell_type": "code",
   "execution_count": 8,
   "id": "c4cb908d",
   "metadata": {
    "execution": {
     "iopub.execute_input": "2024-07-15T17:58:31.494497Z",
     "iopub.status.busy": "2024-07-15T17:58:31.493972Z",
     "iopub.status.idle": "2024-07-15T17:58:31.647717Z",
     "shell.execute_reply": "2024-07-15T17:58:31.646596Z"
    },
    "papermill": {
     "duration": 0.170055,
     "end_time": "2024-07-15T17:58:31.650513",
     "exception": false,
     "start_time": "2024-07-15T17:58:31.480458",
     "status": "completed"
    },
    "tags": []
   },
   "outputs": [
    {
     "data": {
      "text/plain": [
       "Gender                  0\n",
       "Age                     0\n",
       "Driving_License         0\n",
       "Region_Code             0\n",
       "Previously_Insured      0\n",
       "Vehicle_Age             0\n",
       "Vehicle_Damage          0\n",
       "Annual_Premium          0\n",
       "Policy_Sales_Channel    0\n",
       "Vintage                 0\n",
       "Response                0\n",
       "dtype: int64"
      ]
     },
     "execution_count": 8,
     "metadata": {},
     "output_type": "execute_result"
    }
   ],
   "source": [
    "data.isna().sum()"
   ]
  },
  {
   "cell_type": "code",
   "execution_count": 9,
   "id": "1e71f1ab",
   "metadata": {
    "execution": {
     "iopub.execute_input": "2024-07-15T17:58:31.677684Z",
     "iopub.status.busy": "2024-07-15T17:58:31.676551Z",
     "iopub.status.idle": "2024-07-15T17:58:37.185815Z",
     "shell.execute_reply": "2024-07-15T17:58:37.184633Z"
    },
    "papermill": {
     "duration": 5.525587,
     "end_time": "2024-07-15T17:58:37.188744",
     "exception": false,
     "start_time": "2024-07-15T17:58:31.663157",
     "status": "completed"
    },
    "tags": []
   },
   "outputs": [
    {
     "data": {
      "text/html": [
       "<div>\n",
       "<style scoped>\n",
       "    .dataframe tbody tr th:only-of-type {\n",
       "        vertical-align: middle;\n",
       "    }\n",
       "\n",
       "    .dataframe tbody tr th {\n",
       "        vertical-align: top;\n",
       "    }\n",
       "\n",
       "    .dataframe thead th {\n",
       "        text-align: right;\n",
       "    }\n",
       "</style>\n",
       "<table border=\"1\" class=\"dataframe\">\n",
       "  <thead>\n",
       "    <tr style=\"text-align: right;\">\n",
       "      <th></th>\n",
       "      <th>Gender</th>\n",
       "      <th>Age</th>\n",
       "      <th>Driving_License</th>\n",
       "      <th>Region_Code</th>\n",
       "      <th>Previously_Insured</th>\n",
       "      <th>Vehicle_Age</th>\n",
       "      <th>Vehicle_Damage</th>\n",
       "      <th>Annual_Premium</th>\n",
       "      <th>Policy_Sales_Channel</th>\n",
       "      <th>Vintage</th>\n",
       "      <th>Response</th>\n",
       "    </tr>\n",
       "  </thead>\n",
       "  <tbody>\n",
       "    <tr>\n",
       "      <th>count</th>\n",
       "      <td>1.150480e+07</td>\n",
       "      <td>1.150480e+07</td>\n",
       "      <td>1.150480e+07</td>\n",
       "      <td>1.150480e+07</td>\n",
       "      <td>1.150480e+07</td>\n",
       "      <td>1.150480e+07</td>\n",
       "      <td>1.150480e+07</td>\n",
       "      <td>1.150480e+07</td>\n",
       "      <td>1.150480e+07</td>\n",
       "      <td>1.150480e+07</td>\n",
       "      <td>1.150480e+07</td>\n",
       "    </tr>\n",
       "    <tr>\n",
       "      <th>mean</th>\n",
       "      <td>5.413510e-01</td>\n",
       "      <td>3.838356e+01</td>\n",
       "      <td>9.980220e-01</td>\n",
       "      <td>2.641869e+01</td>\n",
       "      <td>4.629966e-01</td>\n",
       "      <td>6.031073e-01</td>\n",
       "      <td>5.026798e-01</td>\n",
       "      <td>3.046137e+04</td>\n",
       "      <td>1.124254e+02</td>\n",
       "      <td>1.638977e+02</td>\n",
       "      <td>1.229973e-01</td>\n",
       "    </tr>\n",
       "    <tr>\n",
       "      <th>std</th>\n",
       "      <td>4.982872e-01</td>\n",
       "      <td>1.499346e+01</td>\n",
       "      <td>4.443120e-02</td>\n",
       "      <td>1.299159e+01</td>\n",
       "      <td>4.986289e-01</td>\n",
       "      <td>5.678559e-01</td>\n",
       "      <td>4.999928e-01</td>\n",
       "      <td>1.645475e+04</td>\n",
       "      <td>5.403571e+01</td>\n",
       "      <td>7.997953e+01</td>\n",
       "      <td>3.284341e-01</td>\n",
       "    </tr>\n",
       "    <tr>\n",
       "      <th>min</th>\n",
       "      <td>0.000000e+00</td>\n",
       "      <td>2.000000e+01</td>\n",
       "      <td>0.000000e+00</td>\n",
       "      <td>0.000000e+00</td>\n",
       "      <td>0.000000e+00</td>\n",
       "      <td>0.000000e+00</td>\n",
       "      <td>0.000000e+00</td>\n",
       "      <td>2.630000e+03</td>\n",
       "      <td>1.000000e+00</td>\n",
       "      <td>1.000000e+01</td>\n",
       "      <td>0.000000e+00</td>\n",
       "    </tr>\n",
       "    <tr>\n",
       "      <th>25%</th>\n",
       "      <td>0.000000e+00</td>\n",
       "      <td>2.400000e+01</td>\n",
       "      <td>1.000000e+00</td>\n",
       "      <td>1.500000e+01</td>\n",
       "      <td>0.000000e+00</td>\n",
       "      <td>0.000000e+00</td>\n",
       "      <td>0.000000e+00</td>\n",
       "      <td>2.527700e+04</td>\n",
       "      <td>2.900000e+01</td>\n",
       "      <td>9.900000e+01</td>\n",
       "      <td>0.000000e+00</td>\n",
       "    </tr>\n",
       "    <tr>\n",
       "      <th>50%</th>\n",
       "      <td>1.000000e+00</td>\n",
       "      <td>3.600000e+01</td>\n",
       "      <td>1.000000e+00</td>\n",
       "      <td>2.800000e+01</td>\n",
       "      <td>0.000000e+00</td>\n",
       "      <td>1.000000e+00</td>\n",
       "      <td>1.000000e+00</td>\n",
       "      <td>3.182400e+04</td>\n",
       "      <td>1.510000e+02</td>\n",
       "      <td>1.660000e+02</td>\n",
       "      <td>0.000000e+00</td>\n",
       "    </tr>\n",
       "    <tr>\n",
       "      <th>75%</th>\n",
       "      <td>1.000000e+00</td>\n",
       "      <td>4.900000e+01</td>\n",
       "      <td>1.000000e+00</td>\n",
       "      <td>3.500000e+01</td>\n",
       "      <td>1.000000e+00</td>\n",
       "      <td>1.000000e+00</td>\n",
       "      <td>1.000000e+00</td>\n",
       "      <td>3.945100e+04</td>\n",
       "      <td>1.520000e+02</td>\n",
       "      <td>2.320000e+02</td>\n",
       "      <td>0.000000e+00</td>\n",
       "    </tr>\n",
       "    <tr>\n",
       "      <th>max</th>\n",
       "      <td>1.000000e+00</td>\n",
       "      <td>8.500000e+01</td>\n",
       "      <td>1.000000e+00</td>\n",
       "      <td>5.200000e+01</td>\n",
       "      <td>1.000000e+00</td>\n",
       "      <td>2.000000e+00</td>\n",
       "      <td>1.000000e+00</td>\n",
       "      <td>5.401650e+05</td>\n",
       "      <td>1.630000e+02</td>\n",
       "      <td>2.990000e+02</td>\n",
       "      <td>1.000000e+00</td>\n",
       "    </tr>\n",
       "  </tbody>\n",
       "</table>\n",
       "</div>"
      ],
      "text/plain": [
       "             Gender           Age  Driving_License   Region_Code  \\\n",
       "count  1.150480e+07  1.150480e+07     1.150480e+07  1.150480e+07   \n",
       "mean   5.413510e-01  3.838356e+01     9.980220e-01  2.641869e+01   \n",
       "std    4.982872e-01  1.499346e+01     4.443120e-02  1.299159e+01   \n",
       "min    0.000000e+00  2.000000e+01     0.000000e+00  0.000000e+00   \n",
       "25%    0.000000e+00  2.400000e+01     1.000000e+00  1.500000e+01   \n",
       "50%    1.000000e+00  3.600000e+01     1.000000e+00  2.800000e+01   \n",
       "75%    1.000000e+00  4.900000e+01     1.000000e+00  3.500000e+01   \n",
       "max    1.000000e+00  8.500000e+01     1.000000e+00  5.200000e+01   \n",
       "\n",
       "       Previously_Insured   Vehicle_Age  Vehicle_Damage  Annual_Premium  \\\n",
       "count        1.150480e+07  1.150480e+07    1.150480e+07    1.150480e+07   \n",
       "mean         4.629966e-01  6.031073e-01    5.026798e-01    3.046137e+04   \n",
       "std          4.986289e-01  5.678559e-01    4.999928e-01    1.645475e+04   \n",
       "min          0.000000e+00  0.000000e+00    0.000000e+00    2.630000e+03   \n",
       "25%          0.000000e+00  0.000000e+00    0.000000e+00    2.527700e+04   \n",
       "50%          0.000000e+00  1.000000e+00    1.000000e+00    3.182400e+04   \n",
       "75%          1.000000e+00  1.000000e+00    1.000000e+00    3.945100e+04   \n",
       "max          1.000000e+00  2.000000e+00    1.000000e+00    5.401650e+05   \n",
       "\n",
       "       Policy_Sales_Channel       Vintage      Response  \n",
       "count          1.150480e+07  1.150480e+07  1.150480e+07  \n",
       "mean           1.124254e+02  1.638977e+02  1.229973e-01  \n",
       "std            5.403571e+01  7.997953e+01  3.284341e-01  \n",
       "min            1.000000e+00  1.000000e+01  0.000000e+00  \n",
       "25%            2.900000e+01  9.900000e+01  0.000000e+00  \n",
       "50%            1.510000e+02  1.660000e+02  0.000000e+00  \n",
       "75%            1.520000e+02  2.320000e+02  0.000000e+00  \n",
       "max            1.630000e+02  2.990000e+02  1.000000e+00  "
      ]
     },
     "execution_count": 9,
     "metadata": {},
     "output_type": "execute_result"
    }
   ],
   "source": [
    "data.describe()"
   ]
  },
  {
   "cell_type": "code",
   "execution_count": 10,
   "id": "58561440",
   "metadata": {
    "execution": {
     "iopub.execute_input": "2024-07-15T17:58:37.216514Z",
     "iopub.status.busy": "2024-07-15T17:58:37.216049Z",
     "iopub.status.idle": "2024-07-15T17:58:45.180185Z",
     "shell.execute_reply": "2024-07-15T17:58:45.179005Z"
    },
    "papermill": {
     "duration": 7.981767,
     "end_time": "2024-07-15T17:58:45.183883",
     "exception": false,
     "start_time": "2024-07-15T17:58:37.202116",
     "status": "completed"
    },
    "tags": []
   },
   "outputs": [
    {
     "data": {
      "image/png": "[encoded data removed]",
      "text/plain": [
       "<Figure size 1600x1200 with 12 Axes>"
      ]
     },
     "metadata": {},
     "output_type": "display_data"
    }
   ],
   "source": [
    "data.hist(figsize=(16, 12));"
   ]
  },
  {
   "cell_type": "markdown",
   "id": "8035a4f5",
   "metadata": {
    "papermill": {
     "duration": 0.013955,
     "end_time": "2024-07-15T17:58:45.211716",
     "exception": false,
     "start_time": "2024-07-15T17:58:45.197761",
     "status": "completed"
    },
    "tags": []
   },
   "source": [
    "## data preparation"
   ]
  },
  {
   "cell_type": "code",
   "execution_count": 11,
   "id": "eb1e530e",
   "metadata": {
    "execution": {
     "iopub.execute_input": "2024-07-15T17:58:45.241478Z",
     "iopub.status.busy": "2024-07-15T17:58:45.241059Z",
     "iopub.status.idle": "2024-07-15T17:58:45.431202Z",
     "shell.execute_reply": "2024-07-15T17:58:45.429899Z"
    },
    "papermill": {
     "duration": 0.208663,
     "end_time": "2024-07-15T17:58:45.434095",
     "exception": false,
     "start_time": "2024-07-15T17:58:45.225432",
     "status": "completed"
    },
    "tags": []
   },
   "outputs": [
    {
     "data": {
      "text/plain": [
       "(30461.370410588694, 31824.0)"
      ]
     },
     "execution_count": 11,
     "metadata": {},
     "output_type": "execute_result"
    }
   ],
   "source": [
    "np.mean(data['Annual_Premium']), np.median(data['Annual_Premium'])"
   ]
  },
  {
   "cell_type": "code",
   "execution_count": 12,
   "id": "1e8babe6",
   "metadata": {
    "execution": {
     "iopub.execute_input": "2024-07-15T17:58:45.465872Z",
     "iopub.status.busy": "2024-07-15T17:58:45.465450Z",
     "iopub.status.idle": "2024-07-15T17:58:45.470599Z",
     "shell.execute_reply": "2024-07-15T17:58:45.469515Z"
    },
    "papermill": {
     "duration": 0.024254,
     "end_time": "2024-07-15T17:58:45.473314",
     "exception": false,
     "start_time": "2024-07-15T17:58:45.449060",
     "status": "completed"
    },
    "tags": []
   },
   "outputs": [],
   "source": [
    "#data['Annual_Premium'] = np.where(data['Annual_Premium'] > 32000, 1, 0)"
   ]
  },
  {
   "cell_type": "code",
   "execution_count": 13,
   "id": "096d157a",
   "metadata": {
    "execution": {
     "iopub.execute_input": "2024-07-15T17:58:45.503897Z",
     "iopub.status.busy": "2024-07-15T17:58:45.503439Z",
     "iopub.status.idle": "2024-07-15T17:58:45.508951Z",
     "shell.execute_reply": "2024-07-15T17:58:45.507675Z"
    },
    "papermill": {
     "duration": 0.023191,
     "end_time": "2024-07-15T17:58:45.511484",
     "exception": false,
     "start_time": "2024-07-15T17:58:45.488293",
     "status": "completed"
    },
    "tags": []
   },
   "outputs": [],
   "source": [
    "#data_sample= data.sample(frac=0.025, random_state=42)\n",
    "#data_sample"
   ]
  },
  {
   "cell_type": "markdown",
   "id": "823f5c94",
   "metadata": {
    "papermill": {
     "duration": 0.01398,
     "end_time": "2024-07-15T17:58:45.539428",
     "exception": false,
     "start_time": "2024-07-15T17:58:45.525448",
     "status": "completed"
    },
    "tags": []
   },
   "source": [
    "## Prepare Datasets"
   ]
  },
  {
   "cell_type": "code",
   "execution_count": 14,
   "id": "0112fe34",
   "metadata": {
    "execution": {
     "iopub.execute_input": "2024-07-15T17:58:45.569797Z",
     "iopub.status.busy": "2024-07-15T17:58:45.568856Z",
     "iopub.status.idle": "2024-07-15T17:58:49.241765Z",
     "shell.execute_reply": "2024-07-15T17:58:49.240533Z"
    },
    "papermill": {
     "duration": 3.690969,
     "end_time": "2024-07-15T17:58:49.244727",
     "exception": false,
     "start_time": "2024-07-15T17:58:45.553758",
     "status": "completed"
    },
    "tags": []
   },
   "outputs": [],
   "source": [
    "X = data.drop(columns=['Response'], axis=1)\n",
    "y = data['Response']\n",
    "train_x,test_x,train_y,test_y = train_test_split(X,y,random_state=42)"
   ]
  },
  {
   "cell_type": "code",
   "execution_count": 15,
   "id": "f1c5fb4f",
   "metadata": {
    "execution": {
     "iopub.execute_input": "2024-07-15T17:58:49.274352Z",
     "iopub.status.busy": "2024-07-15T17:58:49.273900Z",
     "iopub.status.idle": "2024-07-15T17:58:49.395004Z",
     "shell.execute_reply": "2024-07-15T17:58:49.393668Z"
    },
    "papermill": {
     "duration": 0.138977,
     "end_time": "2024-07-15T17:58:49.397667",
     "exception": false,
     "start_time": "2024-07-15T17:58:49.258690",
     "status": "completed"
    },
    "tags": []
   },
   "outputs": [
    {
     "data": {
      "text/plain": [
       "Response\n",
       "0    10089739\n",
       "1     1415059\n",
       "Name: count, dtype: int64"
      ]
     },
     "execution_count": 15,
     "metadata": {},
     "output_type": "execute_result"
    }
   ],
   "source": [
    "y.value_counts()"
   ]
  },
  {
   "cell_type": "code",
   "execution_count": 16,
   "id": "190fdff5",
   "metadata": {
    "execution": {
     "iopub.execute_input": "2024-07-15T17:58:49.427841Z",
     "iopub.status.busy": "2024-07-15T17:58:49.427404Z",
     "iopub.status.idle": "2024-07-15T17:58:49.435281Z",
     "shell.execute_reply": "2024-07-15T17:58:49.434081Z"
    },
    "papermill": {
     "duration": 0.025974,
     "end_time": "2024-07-15T17:58:49.437964",
     "exception": false,
     "start_time": "2024-07-15T17:58:49.411990",
     "status": "completed"
    },
    "tags": []
   },
   "outputs": [
    {
     "data": {
      "text/plain": [
       "((11504798, 10), (11504798,))"
      ]
     },
     "execution_count": 16,
     "metadata": {},
     "output_type": "execute_result"
    }
   ],
   "source": [
    "X.shape, y.shape"
   ]
  },
  {
   "cell_type": "code",
   "execution_count": 17,
   "id": "813b2ae6",
   "metadata": {
    "execution": {
     "iopub.execute_input": "2024-07-15T17:58:49.468760Z",
     "iopub.status.busy": "2024-07-15T17:58:49.467621Z",
     "iopub.status.idle": "2024-07-15T17:58:50.790891Z",
     "shell.execute_reply": "2024-07-15T17:58:50.789490Z"
    },
    "papermill": {
     "duration": 1.341802,
     "end_time": "2024-07-15T17:58:50.793812",
     "exception": false,
     "start_time": "2024-07-15T17:58:49.452010",
     "status": "completed"
    },
    "tags": []
   },
   "outputs": [],
   "source": [
    "scaler = preprocessing.MinMaxScaler()\n",
    "x_train = scaler.fit_transform(train_x.values)\n",
    "x_test =  scaler.fit_transform(test_x.values)"
   ]
  },
  {
   "cell_type": "code",
   "execution_count": 18,
   "id": "98c9bd68",
   "metadata": {
    "execution": {
     "iopub.execute_input": "2024-07-15T17:58:50.825420Z",
     "iopub.status.busy": "2024-07-15T17:58:50.824623Z",
     "iopub.status.idle": "2024-07-15T17:58:51.184653Z",
     "shell.execute_reply": "2024-07-15T17:58:51.183237Z"
    },
    "papermill": {
     "duration": 0.379093,
     "end_time": "2024-07-15T17:58:51.187241",
     "exception": false,
     "start_time": "2024-07-15T17:58:50.808148",
     "status": "completed"
    },
    "tags": []
   },
   "outputs": [
    {
     "name": "stdout",
     "output_type": "stream",
     "text": [
      "\n",
      "Train set Tensors \n",
      "\n",
      "tensor([[0.0000, 0.1077, 1.0000,  ..., 0.0541, 0.9321, 0.3045],\n",
      "        [1.0000, 0.0308, 1.0000,  ..., 0.0412, 0.9321, 0.8512],\n",
      "        [0.0000, 0.0462, 1.0000,  ..., 0.0383, 0.9321, 0.7474],\n",
      "        ...,\n",
      "        [0.0000, 0.1385, 1.0000,  ..., 0.0000, 0.9321, 0.1730],\n",
      "        [1.0000, 0.0462, 1.0000,  ..., 0.0000, 0.9815, 0.1903],\n",
      "        [1.0000, 0.0462, 1.0000,  ..., 0.0000, 0.9321, 0.5779]])\n",
      "tensor([0., 0., 0.,  ..., 0., 0., 0.])\n",
      "\n",
      "Test set Tensors \n",
      "\n",
      "tensor([[0.0000, 0.3231, 1.0000,  ..., 0.0502, 0.9630, 0.1246],\n",
      "        [0.0000, 0.3077, 1.0000,  ..., 0.0749, 0.0741, 0.8131],\n",
      "        [1.0000, 0.1692, 1.0000,  ..., 0.0516, 0.9321, 0.0727],\n",
      "        ...,\n",
      "        [1.0000, 0.4308, 1.0000,  ..., 0.0621, 0.1790, 0.8858],\n",
      "        [0.0000, 0.0769, 1.0000,  ..., 0.0543, 0.9321, 0.3218],\n",
      "        [0.0000, 0.5231, 1.0000,  ..., 0.0828, 0.1543, 0.5571]])\n",
      "tensor([0., 0., 0.,  ..., 0., 0., 0.])\n"
     ]
    }
   ],
   "source": [
    "x_tensor =  torch.from_numpy(x_train).float()\n",
    "y_tensor =  torch.from_numpy(train_y.values.ravel()).float()\n",
    "xtest_tensor =  torch.from_numpy(x_test).float()\n",
    "ytest_tensor =  torch.from_numpy(test_y.values.ravel()).float()\n",
    "\n",
    "print(\"\\nTrain set Tensors \\n\")\n",
    "print(x_tensor)\n",
    "print(y_tensor)\n",
    "print(\"\\nTest set Tensors \\n\")\n",
    "print(xtest_tensor)\n",
    "print(ytest_tensor)"
   ]
  },
  {
   "cell_type": "code",
   "execution_count": 19,
   "id": "dc94f449",
   "metadata": {
    "execution": {
     "iopub.execute_input": "2024-07-15T17:58:51.218630Z",
     "iopub.status.busy": "2024-07-15T17:58:51.218184Z",
     "iopub.status.idle": "2024-07-15T17:58:51.225979Z",
     "shell.execute_reply": "2024-07-15T17:58:51.224836Z"
    },
    "papermill": {
     "duration": 0.026875,
     "end_time": "2024-07-15T17:58:51.228663",
     "exception": false,
     "start_time": "2024-07-15T17:58:51.201788",
     "status": "completed"
    },
    "tags": []
   },
   "outputs": [],
   "source": [
    "#Define a batch size , \n",
    "bs = 64\n",
    "#Both x_train and y_train can be combined in a single TensorDataset, which will be easier to iterate over and slice\n",
    "y_tensor = y_tensor.unsqueeze(1)\n",
    "train_ds = TensorDataset(x_tensor, y_tensor)\n",
    "#Pytorch’s DataLoader is responsible for managing batches. \n",
    "#You can create a DataLoader from any Dataset. DataLoader makes it easier to iterate over batches\n",
    "train_dl = DataLoader(train_ds, batch_size=bs)\n",
    "\n",
    "\n",
    "#For the validation/test dataset\n",
    "ytest_tensor = ytest_tensor.unsqueeze(1)\n",
    "test_ds = TensorDataset(xtest_tensor, ytest_tensor)\n",
    "test_loader = DataLoader(test_ds, batch_size=32)"
   ]
  },
  {
   "cell_type": "code",
   "execution_count": 20,
   "id": "a21b249f",
   "metadata": {
    "execution": {
     "iopub.execute_input": "2024-07-15T17:58:51.259567Z",
     "iopub.status.busy": "2024-07-15T17:58:51.259038Z",
     "iopub.status.idle": "2024-07-15T17:58:51.287173Z",
     "shell.execute_reply": "2024-07-15T17:58:51.285886Z"
    },
    "papermill": {
     "duration": 0.047017,
     "end_time": "2024-07-15T17:58:51.290238",
     "exception": false,
     "start_time": "2024-07-15T17:58:51.243221",
     "status": "completed"
    },
    "tags": []
   },
   "outputs": [
    {
     "name": "stdout",
     "output_type": "stream",
     "text": [
      "ChurnModel(\n",
      "  (layer_1): Linear(in_features=10, out_features=300, bias=True)\n",
      "  (layer_2): Linear(in_features=300, out_features=100, bias=True)\n",
      "  (layer_out): Linear(in_features=100, out_features=1, bias=True)\n",
      "  (relu): ReLU()\n",
      "  (sigmoid): Sigmoid()\n",
      "  (dropout): Dropout(p=0.1, inplace=False)\n",
      "  (batchnorm1): BatchNorm1d(300, eps=1e-05, momentum=0.1, affine=True, track_running_stats=True)\n",
      "  (batchnorm2): BatchNorm1d(100, eps=1e-05, momentum=0.1, affine=True, track_running_stats=True)\n",
      ")\n"
     ]
    }
   ],
   "source": [
    "n_input_dim = train_x.shape[1]\n",
    "\n",
    "#Layer size\n",
    "n_hidden1 = 300  # Number of hidden nodes\n",
    "n_hidden2 = 100\n",
    "n_output =  1   # Number of output nodes = for binary classifier\n",
    "\n",
    "\n",
    "class ChurnModel(nn.Module):\n",
    "    def __init__(self):\n",
    "        super(ChurnModel, self).__init__()\n",
    "        self.layer_1 = nn.Linear(n_input_dim, n_hidden1) \n",
    "        self.layer_2 = nn.Linear(n_hidden1, n_hidden2)\n",
    "        self.layer_out = nn.Linear(n_hidden2, n_output) \n",
    "        \n",
    "        \n",
    "        self.relu = nn.ReLU()\n",
    "        self.sigmoid =  nn.Sigmoid()\n",
    "        self.dropout = nn.Dropout(p=0.1)\n",
    "        self.batchnorm1 = nn.BatchNorm1d(n_hidden1)\n",
    "        self.batchnorm2 = nn.BatchNorm1d(n_hidden2)\n",
    "        \n",
    "        \n",
    "    def forward(self, inputs):\n",
    "        x = self.relu(self.layer_1(inputs))\n",
    "        x = self.batchnorm1(x)\n",
    "        x = self.relu(self.layer_2(x))\n",
    "        x = self.batchnorm2(x)\n",
    "        x = self.dropout(x)\n",
    "        x = self.sigmoid(self.layer_out(x))\n",
    "        \n",
    "        return x\n",
    "    \n",
    "\n",
    "model = ChurnModel()\n",
    "print(model)"
   ]
  },
  {
   "cell_type": "code",
   "execution_count": 21,
   "id": "f11934ee",
   "metadata": {
    "execution": {
     "iopub.execute_input": "2024-07-15T17:58:51.321768Z",
     "iopub.status.busy": "2024-07-15T17:58:51.321323Z",
     "iopub.status.idle": "2024-07-15T17:58:53.036376Z",
     "shell.execute_reply": "2024-07-15T17:58:53.035263Z"
    },
    "papermill": {
     "duration": 1.73397,
     "end_time": "2024-07-15T17:58:53.039403",
     "exception": false,
     "start_time": "2024-07-15T17:58:51.305433",
     "status": "completed"
    },
    "tags": []
   },
   "outputs": [],
   "source": [
    "#Loss Computation\n",
    "loss_func = nn.BCELoss()\n",
    "#Optimizer\n",
    "learning_rate = 0.001\n",
    "optimizer = torch.optim.Adam(model.parameters(), lr=learning_rate)\n",
    "epochs = 50"
   ]
  },
  {
   "cell_type": "code",
   "execution_count": 22,
   "id": "be2ce0bc",
   "metadata": {
    "execution": {
     "iopub.execute_input": "2024-07-15T17:58:53.070481Z",
     "iopub.status.busy": "2024-07-15T17:58:53.069869Z",
     "iopub.status.idle": "2024-07-15T17:59:07.834041Z",
     "shell.execute_reply": "2024-07-15T17:59:07.832667Z"
    },
    "papermill": {
     "duration": 14.782718,
     "end_time": "2024-07-15T17:59:07.836882",
     "exception": false,
     "start_time": "2024-07-15T17:58:53.054164",
     "status": "completed"
    },
    "tags": []
   },
   "outputs": [
    {
     "name": "stderr",
     "output_type": "stream",
     "text": [
      "2024-07-15 17:58:55.335347: E external/local_xla/xla/stream_executor/cuda/cuda_dnn.cc:9261] Unable to register cuDNN factory: Attempting to register factory for plugin cuDNN when one has already been registered\n",
      "2024-07-15 17:58:55.335518: E external/local_xla/xla/stream_executor/cuda/cuda_fft.cc:607] Unable to register cuFFT factory: Attempting to register factory for plugin cuFFT when one has already been registered\n",
      "2024-07-15 17:58:55.500316: E external/local_xla/xla/stream_executor/cuda/cuda_blas.cc:1515] Unable to register cuBLAS factory: Attempting to register factory for plugin cuBLAS when one has already been registered\n"
     ]
    },
    {
     "name": "stdout",
     "output_type": "stream",
     "text": [
      "Num GPUs Available:  0\n"
     ]
    }
   ],
   "source": [
    "import tensorflow as tf\n",
    "print(\"Num GPUs Available: \", len(tf.config.experimental.list_physical_devices('GPU')))\n"
   ]
  },
  {
   "cell_type": "code",
   "execution_count": 23,
   "id": "95775927",
   "metadata": {
    "execution": {
     "iopub.execute_input": "2024-07-15T17:59:07.869740Z",
     "iopub.status.busy": "2024-07-15T17:59:07.868943Z",
     "iopub.status.idle": "2024-07-15T17:59:09.076194Z",
     "shell.execute_reply": "2024-07-15T17:59:09.074681Z"
    },
    "papermill": {
     "duration": 1.227007,
     "end_time": "2024-07-15T17:59:09.079442",
     "exception": false,
     "start_time": "2024-07-15T17:59:07.852435",
     "status": "completed"
    },
    "tags": []
   },
   "outputs": [
    {
     "name": "stdout",
     "output_type": "stream",
     "text": [
      "/bin/bash: nvidia-smi: command not found\r\n"
     ]
    }
   ],
   "source": [
    "!nvidia-smi"
   ]
  },
  {
   "cell_type": "code",
   "execution_count": 24,
   "id": "fe481743",
   "metadata": {
    "execution": {
     "iopub.execute_input": "2024-07-15T17:59:09.111276Z",
     "iopub.status.busy": "2024-07-15T17:59:09.110793Z",
     "iopub.status.idle": "2024-07-15T17:59:09.119328Z",
     "shell.execute_reply": "2024-07-15T17:59:09.118005Z"
    },
    "papermill": {
     "duration": 0.027674,
     "end_time": "2024-07-15T17:59:09.122011",
     "exception": false,
     "start_time": "2024-07-15T17:59:09.094337",
     "status": "completed"
    },
    "tags": []
   },
   "outputs": [],
   "source": [
    "gpus = tf.config.experimental.list_physical_devices('GPU')\n",
    "if gpus:\n",
    "    try:\n",
    "        # Restrict TensorFlow to only use the first GPU\n",
    "        tf.config.experimental.set_visible_devices(gpus[0], 'GPU')\n",
    "        \n",
    "        # Allow memory growth\n",
    "        for gpu in gpus:\n",
    "            tf.config.experimental.set_memory_growth(gpu, True)\n",
    "    except RuntimeError as e:\n",
    "        print(e)"
   ]
  },
  {
   "cell_type": "code",
   "execution_count": 25,
   "id": "c3171e91",
   "metadata": {
    "execution": {
     "iopub.execute_input": "2024-07-15T17:59:09.154538Z",
     "iopub.status.busy": "2024-07-15T17:59:09.153029Z",
     "iopub.status.idle": "2024-07-15T17:59:09.165877Z",
     "shell.execute_reply": "2024-07-15T17:59:09.164618Z"
    },
    "papermill": {
     "duration": 0.031716,
     "end_time": "2024-07-15T17:59:09.168638",
     "exception": false,
     "start_time": "2024-07-15T17:59:09.136922",
     "status": "completed"
    },
    "tags": []
   },
   "outputs": [
    {
     "name": "stdout",
     "output_type": "stream",
     "text": [
      "/bin/bash: nvidia-smi: command not found\n"
     ]
    }
   ],
   "source": [
    "gpu_info = !nvidia-smi\n",
    "gpu_info = '\\n'.join(gpu_info)\n",
    "if gpu_info.find('failed') >= 0:\n",
    "  print('Not connected to a GPU')\n",
    "else:\n",
    "  print(gpu_info)"
   ]
  },
  {
   "cell_type": "code",
   "execution_count": 26,
   "id": "d695f0f2",
   "metadata": {
    "execution": {
     "iopub.execute_input": "2024-07-15T17:59:09.201101Z",
     "iopub.status.busy": "2024-07-15T17:59:09.200650Z",
     "iopub.status.idle": "2024-07-16T01:07:02.413378Z",
     "shell.execute_reply": "2024-07-16T01:07:02.411419Z"
    },
    "papermill": {
     "duration": 25673.250702,
     "end_time": "2024-07-16T01:07:02.434563",
     "exception": false,
     "start_time": "2024-07-15T17:59:09.183861",
     "status": "completed"
    },
    "tags": []
   },
   "outputs": [
    {
     "name": "stdout",
     "output_type": "stream",
     "text": [
      "Last iteration loss value: 0.26071298122406006\n"
     ]
    }
   ],
   "source": [
    "model.train()\n",
    "train_loss = []\n",
    "for epoch in range(epochs):\n",
    "    #Within each epoch run the subsets of data = batch sizes.\n",
    "    for xb, yb in train_dl:\n",
    "        y_pred = model(xb)            # Forward Propagation\n",
    "        loss = loss_func(y_pred, yb)  # Loss Computation\n",
    "        optimizer.zero_grad()         # Clearing all previous gradients, setting to zero \n",
    "        loss.backward()               # Back Propagation\n",
    "        optimizer.step()              # Updating the parameters \n",
    "    #print(\"Loss in iteration :\"+str(epoch)+\" is: \"+str(loss.item()))\n",
    "    train_loss.append(loss.item())\n",
    "print('Last iteration loss value: '+str(loss.item()))"
   ]
  },
  {
   "cell_type": "code",
   "execution_count": 27,
   "id": "953f485d",
   "metadata": {
    "execution": {
     "iopub.execute_input": "2024-07-16T01:07:02.467124Z",
     "iopub.status.busy": "2024-07-16T01:07:02.466675Z",
     "iopub.status.idle": "2024-07-16T01:07:02.766892Z",
     "shell.execute_reply": "2024-07-16T01:07:02.765690Z"
    },
    "papermill": {
     "duration": 0.319354,
     "end_time": "2024-07-16T01:07:02.769443",
     "exception": false,
     "start_time": "2024-07-16T01:07:02.450089",
     "status": "completed"
    },
    "tags": []
   },
   "outputs": [
    {
     "data": {
      "image/png": "[encoded data removed]",
      "text/plain": [
       "<Figure size 640x480 with 1 Axes>"
      ]
     },
     "metadata": {},
     "output_type": "display_data"
    }
   ],
   "source": [
    "plt.plot(train_loss)\n",
    "plt.show()"
   ]
  },
  {
   "cell_type": "code",
   "execution_count": 28,
   "id": "31c2eeba",
   "metadata": {
    "execution": {
     "iopub.execute_input": "2024-07-16T01:07:02.803695Z",
     "iopub.status.busy": "2024-07-16T01:07:02.803277Z",
     "iopub.status.idle": "2024-07-16T01:08:19.468711Z",
     "shell.execute_reply": "2024-07-16T01:08:19.467545Z"
    },
    "papermill": {
     "duration": 76.685956,
     "end_time": "2024-07-16T01:08:19.471860",
     "exception": false,
     "start_time": "2024-07-16T01:07:02.785904",
     "status": "completed"
    },
    "tags": []
   },
   "outputs": [],
   "source": [
    "import itertools\n",
    "\n",
    "y_pred_list = []\n",
    "model.eval()\n",
    "#Since we don't need model to back propagate the gradients in test set we use torch.no_grad()\n",
    "# reduces memory usage and speeds up computation\n",
    "with torch.no_grad():\n",
    "    for xb_test,yb_test  in test_loader:\n",
    "        y_test_pred = model(xb_test)\n",
    "        y_pred_tag = torch.round(y_test_pred)\n",
    "        y_pred_list.append(y_pred_tag.detach().numpy())\n",
    "\n",
    "#Takes arrays and makes them list of list for each batch        \n",
    "y_pred_list = [a.squeeze().tolist() for a in y_pred_list]\n",
    "#flattens the lists in sequence\n",
    "ytest_pred = list(itertools.chain.from_iterable(y_pred_list))"
   ]
  },
  {
   "cell_type": "code",
   "execution_count": 29,
   "id": "65c86614",
   "metadata": {
    "execution": {
     "iopub.execute_input": "2024-07-16T01:08:19.505953Z",
     "iopub.status.busy": "2024-07-16T01:08:19.505497Z",
     "iopub.status.idle": "2024-07-16T01:08:29.895237Z",
     "shell.execute_reply": "2024-07-16T01:08:29.893567Z"
    },
    "papermill": {
     "duration": 10.410196,
     "end_time": "2024-07-16T01:08:29.898160",
     "exception": false,
     "start_time": "2024-07-16T01:08:19.487964",
     "status": "completed"
    },
    "tags": []
   },
   "outputs": [
    {
     "name": "stdout",
     "output_type": "stream",
     "text": [
      "Confusion Matrix of the Test Set\n",
      "-----------\n",
      "[[2517354    5206]\n",
      " [ 347601    6039]]\n",
      "Precision of the MLP :\t0.5370386838594932\n",
      "Recall of the MLP    :\t0.017076688157448252\n",
      "F1 Score of the Model :\t0.033100839990681995\n"
     ]
    }
   ],
   "source": [
    "y_true_test = test_y.values.ravel()\n",
    "conf_matrix = confusion_matrix(y_true_test ,ytest_pred)\n",
    "print(\"Confusion Matrix of the Test Set\")\n",
    "print(\"-----------\")\n",
    "print(conf_matrix)\n",
    "print(\"Precision of the MLP :\\t\"+str(precision_score(y_true_test,ytest_pred)))\n",
    "print(\"Recall of the MLP    :\\t\"+str(recall_score(y_true_test,ytest_pred)))\n",
    "print(\"F1 Score of the Model :\\t\"+str(f1_score(y_true_test,ytest_pred)))"
   ]
  },
  {
   "cell_type": "code",
   "execution_count": null,
   "id": "ec267fca",
   "metadata": {
    "papermill": {
     "duration": 0.016414,
     "end_time": "2024-07-16T01:08:29.933256",
     "exception": false,
     "start_time": "2024-07-16T01:08:29.916842",
     "status": "completed"
    },
    "tags": []
   },
   "outputs": [],
   "source": []
  }
 ],
 "metadata": {
  "kaggle": {
   "accelerator": "none",
   "dataSources": [
    {
     "databundleVersionId": 8930475,
     "sourceId": 73291,
     "sourceType": "competition"
    }
   ],
   "dockerImageVersionId": 30747,
   "isGpuEnabled": false,
   "isInternetEnabled": true,
   "language": "python",
   "sourceType": "notebook"
  },
  "kernelspec": {
   "display_name": "Python 3",
   "language": "python",
   "name": "python3"
  },
  "language_info": {
   "codemirror_mode": {
    "name": "ipython",
    "version": 3
   },
   "file_extension": ".py",
   "mimetype": "text/x-python",
   "name": "python",
   "nbconvert_exporter": "python",
   "pygments_lexer": "ipython3",
   "version": "3.10.13"
  },
  "papermill": {
   "default_parameters": {},
   "duration": 25855.787634,
   "end_time": "2024-07-16T01:08:32.738716",
   "environment_variables": {},
   "exception": null,
   "input_path": "__notebook__.ipynb",
   "output_path": "__notebook__.ipynb",
   "parameters": {},
   "start_time": "2024-07-15T17:57:36.951082",
   "version": "2.5.0"
  }
 },
 "nbformat": 4,
 "nbformat_minor": 5
}
